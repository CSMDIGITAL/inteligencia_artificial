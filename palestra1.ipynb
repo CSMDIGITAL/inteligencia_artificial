{
 "cells": [
  {
   "cell_type": "code",
   "execution_count": null,
   "metadata": {},
   "outputs": [],
   "source": [
    "# Inteligencia Artificial"
   ]
  },
  {
   "attachments": {},
   "cell_type": "markdown",
   "metadata": {},
   "source": [
    "- A inteligencia Artificial e a imitaçâo da vida\n",
    "- 1950: os primeiros computadores  contruindo a historia da IA \n",
    "- Iverno da IA: empolgacao seguida por uma desilusâo \n",
    "- Ia baseada em logica foi perdendo espaco para IA baseada em Dados e Estatiscas\n",
    "- Machine Learnig aplicado ao comercio \n",
    "- Redes Neurais, Big Data ( cloud Computer e Databricks)\n",
    "- \"Maquina Viva\" : mitologia, grecia antiga, china\n",
    "- XVII : dispositivos  \"autônomos\". \n",
    "- Filosfos - pesamento humano pode ser simulado por simbolos\n",
    "- Alan Turing (1912-1954): teste maquina de turing (maquina tem, ou não tem inteligencia similiar a humana)\n",
    "- Quem você considera inteligencia:\n",
    "- Linguistica\n",
    "- Artitica\n",
    "- Numerica \n",
    "- Sensorial\n",
    "- Espacial\n",
    "- Emocional\n",
    "- Fisica\n",
    "- Reflexiva\n",
    "\"Eu sei que sou inteligente  porque eu sei  que nada sei\" Socrates"
   ]
  }
 ],
 "metadata": {
  "language_info": {
   "name": "python"
  },
  "orig_nbformat": 4
 },
 "nbformat": 4,
 "nbformat_minor": 2
}
