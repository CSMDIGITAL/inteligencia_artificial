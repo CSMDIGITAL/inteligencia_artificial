{
 "cells": [
  {
   "attachments": {},
   "cell_type": "markdown",
   "metadata": {},
   "source": [
    "# Inteligencia Artificial"
   ]
  },
  {
   "attachments": {},
   "cell_type": "markdown",
   "metadata": {},
   "source": [
    "- A inteligencia Artificial e a imitaçâo da vida\n",
    "- 1950: os primeiros computadores  contruindo a historia da IA \n",
    "- Iverno da IA: empolgacao seguida por uma desilusâo \n",
    "- Ia baseada em logica foi perdendo espaco para IA baseada em Dados e Estatiscas\n",
    "- Machine Learnig aplicado ao comercio \n",
    "- Redes Neurais, Big Data ( cloud Computer e Databricks)\n",
    "- \"Maquina Viva\" : mitologia, grecia antiga, china\n",
    "- XVII : dispositivos  \"autônomos\". \n",
    "- Filosfos - pesamento humano pode ser simulado por simbolos\n",
    "- Alan Turing (1912-1954): teste maquina de turing (maquina tem, ou não tem inteligencia similiar a humana)\n",
    "- Quem você considera inteligencia:\n",
    "- Linguistica\n",
    "- Artitica\n",
    "- Numerica \n",
    "- Sensorial\n",
    "- Espacial\n",
    "- Emocional\n",
    "- Fisica\n",
    "- Reflexiva\n",
    "\"Eu sei que sou inteligente  porque eu sei  que nada sei\" Socrates"
   ]
  },
  {
   "attachments": {},
   "cell_type": "markdown",
   "metadata": {},
   "source": [
    "# Data Driven"
   ]
  },
  {
   "attachments": {},
   "cell_type": "markdown",
   "metadata": {},
   "source": [
    "- Uma empresa orientada a dados\n",
    "- Vocês ja possuem os dados mas utilizam  em uma visao Data Driven:\n",
    "- Netflix, \n",
    "- Spotify\n",
    "- Wall Mart\n",
    "\n"
   ]
  },
  {
   "attachments": {},
   "cell_type": "markdown",
   "metadata": {},
   "source": [
    "# DataSet Games"
   ]
  },
  {
   "cell_type": "code",
   "execution_count": 1,
   "metadata": {},
   "outputs": [
    {
     "name": "stdout",
     "output_type": "stream",
     "text": [
      "hello world\n"
     ]
    }
   ],
   "source": [
    "print(\"hello world\")\n"
   ]
  },
  {
   "attachments": {},
   "cell_type": "markdown",
   "metadata": {},
   "source": [
    "# DataSet Filmes"
   ]
  }
 ],
 "metadata": {
  "kernelspec": {
   "display_name": "venv",
   "language": "python",
   "name": "python3"
  },
  "language_info": {
   "codemirror_mode": {
    "name": "ipython",
    "version": 3
   },
   "file_extension": ".py",
   "mimetype": "text/x-python",
   "name": "python",
   "nbconvert_exporter": "python",
   "pygments_lexer": "ipython3",
   "version": "3.11.9"
  },
  "orig_nbformat": 4
 },
 "nbformat": 4,
 "nbformat_minor": 2
}
